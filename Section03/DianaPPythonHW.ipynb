{
 "cells": [
  {
   "cell_type": "markdown",
   "metadata": {},
   "source": [
    "1. What is an algorithm?\n",
    "<br>\n",
    "**An algorithm is a series of steps to solve a problem at hand.**\n",
    "<br>\n",
    "<br>\n",
    "2. Variable names may not start with certain characters - name two.\n",
    "<br>\n",
    "_Numbers or special characters (except underscores)._\n",
    "<br>\n",
    "<br>\n",
    "3. What is a Semantic error?\n",
    "<br>\n",
    "# Code that is grammatically correct but doesn't make any sense; does not produce the expected results\n",
    "<br>\n",
    "<br>"
   ]
  },
  {
   "cell_type": "markdown",
   "metadata": {},
   "source": [
    "4. What is the number 1 rule of coding / debugging?\n",
    "<br>\n",
    "## Complexity sucks.\n",
    "<br>\n",
    "<br>\n",
    "5. List 5 Python reserved words.\n",
    "<br>\n",
    "-as\n",
    "<br>\n",
    "-assert\n",
    "<br>\n",
    "-for\n",
    "<br>\n",
    "-form\n",
    "<br>\n",
    "-or\n",
    "<br>"
   ]
  },
  {
   "cell_type": "code",
   "execution_count": 8,
   "metadata": {},
   "outputs": [
    {
     "data": {
      "text/plain": [
       "'\\nname: \"Diana Perez\"\\nfav_food: \"wangz\"\\njob: \"Data Ninja\"\\n'"
      ]
     },
     "execution_count": 8,
     "metadata": {},
     "output_type": "execute_result"
    }
   ],
   "source": [
    "6. \n",
    "\n",
    "'''\n",
    "name: \"Diana Perez\"\n",
    "fav_food: \"wangz\"\n",
    "job: \"Data Ninja\"\n",
    "'''\n"
   ]
  },
  {
   "cell_type": "code",
   "execution_count": 63,
   "metadata": {},
   "outputs": [
    {
     "name": "stdout",
     "output_type": "stream",
     "text": [
      "12\n",
      "3\n"
     ]
    }
   ],
   "source": [
    "7. \n",
    "string_var = \"Savvy Coders\"\n",
    "list_var = [1, 2, 3, 4, 5]\n",
    "\n",
    "\n",
    "string_length = len(string_var)\n",
    "print(string_length)\n",
    "\n",
    "\n",
    "fourth_character_index = 3  \n",
    "print(fourth_character_index)\n"
   ]
  },
  {
   "cell_type": "code",
   "execution_count": 58,
   "metadata": {},
   "outputs": [
    {
     "name": "stdout",
     "output_type": "stream",
     "text": [
      "ing Data Analytics \n",
      "Learning Data Analytics and Python is great!\n",
      "True\n"
     ]
    }
   ],
   "source": [
    "8. \n",
    "savvy = \"Learning Data Analytics and Python is Awesome!\"\n",
    "\n",
    "sliced_string = savvy[savvy.find(\"ing\"):savvy.find(\"and\")]\n",
    "print(sliced_string)\n",
    "\n",
    "modified_string = savvy.replace(\"Awesome\", \"great\")\n",
    "print(modified_string)\n",
    "\n",
    "contains_python = \"Python\" in modified_string\n",
    "print(contains_python)\n"
   ]
  },
  {
   "cell_type": "code",
   "execution_count": 41,
   "metadata": {},
   "outputs": [
    {
     "name": "stdout",
     "output_type": "stream",
     "text": [
      "Hi my name is Miles, I am not tall and 19 years old today.\n"
     ]
    }
   ],
   "source": [
    "9. \n",
    "name, age, length = \"Miles\", \"19 years\", \"not\"\n",
    "\n",
    "miniBio = \"Hi my name is {}, I am {} tall and {} old today.\".format(name, length, age)\n",
    "print(miniBio)\n",
    "\n",
    "# I am not sure how to do a float. \n"
   ]
  },
  {
   "cell_type": "code",
   "execution_count": 70,
   "metadata": {},
   "outputs": [
    {
     "name": "stdout",
     "output_type": "stream",
     "text": [
      "[1, 'apple', 3.14, True, 'banana']\n",
      "[1, ('orange',), 3.14, True, 'banana']\n",
      "[1, ('orange',), 3.14, True, 'banana', 42, 'grape']\n",
      "7\n",
      "[('orange',), 3.14, True]\n",
      "[10, 5, 2, 8, 3]\n",
      "[2, 3, 5, 8, 10]\n",
      "[('orange',), 3.14, True, 2, 3, 5, 8, 10]\n"
     ]
    }
   ],
   "source": [
    "10. \n",
    "dp_list = [1, \"apple\", 3.14, True, \"banana\"]\n",
    "print(dp_list)\n",
    "\n",
    "dp_list[1] = \"orange\", \n",
    "print(dp_list)\n",
    "\n",
    "dp_list.append(42)\n",
    "dp_list.append(\"grape\")\n",
    "print(dp_list)\n",
    "\n",
    "list_length = len(dp_list)\n",
    "print(list_length)\n",
    "\n",
    "second_list = dp_list[1:4]\n",
    "print(second_list)\n",
    "\n",
    "dp_list.extend(second_list)\n",
    "\n",
    "simList = [10, 5, 2, 8, 3]\n",
    "print(simList)\n",
    "\n",
    "simList.sort()\n",
    "print(simList)\n",
    "\n",
    "third_list = simList.copy()\n",
    "\n",
    "fourth_list = second_list + third_list\n",
    "print(fourth_list)\n"
   ]
  },
  {
   "cell_type": "code",
   "execution_count": 76,
   "metadata": {},
   "outputs": [
    {
     "name": "stdout",
     "output_type": "stream",
     "text": [
      "(1, 2, 3, 4, 5, 1, 2, 3, 4, 5, 1, 2, 3, 4, 5)\n",
      "2\n",
      "(1, 1, 1, 2, 2, 2, 3, 3, 3, 4, 4, 4, 5, 5, 5)\n",
      "3 1 4 2\n",
      "(1, 1, 1, 2, 2, 2, 3, 3, 3, 4, 4, 4, 5, 5, 5, 3, 1, 4, 2)\n"
     ]
    }
   ],
   "source": [
    "11.\n",
    "dp_tuple = (1, 2, 3, 4, 5)\n",
    "\n",
    "second_tuple = dp_tuple * 3\n",
    "print(second_tuple)\n",
    "\n",
    "twelfth_element = second_tuple[11]\n",
    "print(twelfth_element)\n",
    "\n",
    "sorted_tuple = tuple(sorted(second_tuple))\n",
    "print(sorted_tuple)\n",
    "\n",
    "third_tuple = (second_tuple[2], second_tuple[5], second_tuple[8], second_tuple[11])\n",
    "\n",
    "var1, var2, var3, var4 = third_tuple\n",
    "print(var1, var2, var3, var4)\n",
    "\n",
    "single_item_tuple = (50,)\n",
    "\n",
    "fourth_tuple = sorted_tuple + third_tuple\n",
    "print(fourth_tuple)\n"
   ]
  },
  {
   "cell_type": "code",
   "execution_count": 82,
   "metadata": {},
   "outputs": [
    {
     "name": "stdout",
     "output_type": "stream",
     "text": [
      "{1, 2, 3, 'banana', 'orange', 'apple'}\n",
      "{1, 2, 3, 'banana', 'car', 'orange', 'apple'}\n",
      "{1, 2, 3, 'banana', 5, 'car', 'orange', 'meow', 'apple'}\n",
      "meow\n",
      "{5}\n",
      "set()\n",
      "{1, 2, 3, 'banana', 'car', 'orange', 'meow'}\n"
     ]
    }
   ],
   "source": [
    "12.\n",
    "dp_set = {1, 2, 3}\n",
    "\n",
    "fruits_list = [\"apple\", \"banana\", \"orange\"]\n",
    "dp_set.update(fruits_list)\n",
    "print(dp_set)\n",
    "\n",
    "dp_set.add(\"car\")\n",
    "print(dp_set)\n",
    "\n",
    "second_set = {5, \"meow\"}\n",
    "\n",
    "third_set = dp_set.union(second_set)\n",
    "print(third_set)\n",
    "\n",
    "popped_element = second_set.pop()\n",
    "print(popped_element)\n",
    "print(second_set)\n",
    "\n",
    "dp_set.clear()\n",
    "print(dp_set)\n",
    "\n",
    "third_set.discard(\"apple\")\n",
    "third_set.remove(5)\n",
    "print(third_set)\n"
   ]
  },
  {
   "cell_type": "code",
   "execution_count": 62,
   "metadata": {},
   "outputs": [
    {
     "name": "stdout",
     "output_type": "stream",
     "text": [
      "{'name': 'Diana', 'age': 35, 'is_student': True, 'height': 164.5, 'grades': [95, 88, 80]}\n",
      "Diana\n",
      "{'name': 'Diana P.', 'age': 35, 'is_student': True, 'height': 164.5, 'grades': [95, 88, 80]}\n",
      "{'name': 'Diana P.', 'age': 35, 'is_student': True, 'height': 164.5, 'grades': [95, 88, 80], 'color': 'blue'}\n",
      "{'name': 'Diana P.', 'age': 35, 'is_student': True, 'height': 164.5, 'grades': [95, 88, 80], 'color': 'blue', 'hobbies_list': ['Reading', 'Cooking', 'Boxing']}\n",
      "['Diana P.', 35, True, 164.5, [95, 88, 80], 'blue', ['Reading', 'Cooking', 'Boxing']]\n",
      "35\n",
      "{'name': 'Diana P.', 'is_student': True, 'height': 164.5, 'grades': [95, 88, 80], 'color': 'blue', 'hobbies_list': ['Reading', 'Cooking', 'Boxing']}\n",
      "{}\n"
     ]
    }
   ],
   "source": [
    "13. \n",
    "my_dict = {\n",
    "    \"name\": \"Diana\",\n",
    "    \"age\": 35,\n",
    "    \"is_student\": True,\n",
    "    \"height\": 164.5,\n",
    "    \"grades\": [95, 88, 80]\n",
    "}\n",
    "\n",
    "print(my_dict)\n",
    "\n",
    "print (my_dict[\"name\"])\n",
    "\n",
    "my_dict.update({\"name\": \"Diana P.\"})\n",
    "print(my_dict)\n",
    "\n",
    "my_dict.update({\"color\": \"blue\"})\n",
    "print(my_dict)\n",
    "\n",
    "my_dict.update({\"hobbies_list\": [\"Reading\", \"Cooking\", \"Boxing\"]})\n",
    "print(my_dict)\n",
    "\n",
    "print(list(my_dict.values()))\n",
    "\n",
    "my_dict_copy = my_dict.copy()\n",
    "\n",
    "popped_item = my_dict_copy.pop(\"age\")\n",
    "print(popped_item)\n",
    "print(my_dict_copy)\n",
    "\n",
    "my_dict_copy.clear()\n",
    "print(my_dict_copy)"
   ]
  }
 ],
 "metadata": {
  "kernelspec": {
   "display_name": "Python 3",
   "language": "python",
   "name": "python3"
  },
  "language_info": {
   "codemirror_mode": {
    "name": "ipython",
    "version": 3
   },
   "file_extension": ".py",
   "mimetype": "text/x-python",
   "name": "python",
   "nbconvert_exporter": "python",
   "pygments_lexer": "ipython3",
   "version": "3.11.4"
  },
  "orig_nbformat": 4
 },
 "nbformat": 4,
 "nbformat_minor": 2
}
