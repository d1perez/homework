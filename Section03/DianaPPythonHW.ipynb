{
 "cells": [
  {
   "cell_type": "markdown",
   "metadata": {},
   "source": [
    "1. What is an algorithm?\n",
    "<br>\n",
    "**An algorithm is a series of steps to solve a problem at hand.**\n",
    "<br>\n",
    "<br>\n",
    "2. Variable names may not start with certain characters - name two.\n",
    "<br>\n",
    "_Numbers or special characters (except underscores)._\n",
    "<br>\n",
    "<br>\n",
    "3. What is a Semantic error?\n",
    "<br>\n",
    "# Code that is grammatically correct but doesn't make any sense; does not produce the expected results\n",
    "<br>\n",
    "<br>"
   ]
  },
  {
   "cell_type": "markdown",
   "metadata": {},
   "source": [
    "4. What is the number 1 rule of coding / debugging?\n",
    "<br>\n",
    "## Complexity sucks.\n",
    "<br>\n",
    "<br>\n",
    "5. List 5 Python reserved words.\n",
    "<br>\n",
    "-as\n",
    "<br>\n",
    "-assert\n",
    "<br>\n",
    "-for\n",
    "<br>\n",
    "-form\n",
    "<br>\n",
    "-or\n",
    "<br>"
   ]
  },
  {
   "cell_type": "code",
   "execution_count": null,
   "metadata": {},
   "outputs": [],
   "source": [
    "6. Write a multi-line comment with your name, favorite food, and dream job on 3 different lines.\n"
   ]
  }
 ],
 "metadata": {
  "kernelspec": {
   "display_name": "Python 3",
   "language": "python",
   "name": "python3"
  },
  "language_info": {
   "codemirror_mode": {
    "name": "ipython",
    "version": 3
   },
   "file_extension": ".py",
   "mimetype": "text/x-python",
   "name": "python",
   "nbconvert_exporter": "python",
   "pygments_lexer": "ipython3",
   "version": "3.11.4"
  },
  "orig_nbformat": 4
 },
 "nbformat": 4,
 "nbformat_minor": 2
}
